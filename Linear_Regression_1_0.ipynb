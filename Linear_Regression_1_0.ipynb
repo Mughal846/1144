{
  "nbformat": 4,
  "nbformat_minor": 0,
  "metadata": {
    "colab": {
      "provenance": [],
      "gpuType": "T4"
    },
    "kernelspec": {
      "name": "python3",
      "display_name": "Python 3"
    },
    "language_info": {
      "name": "python"
    },
    "accelerator": "GPU"
  },
  "cells": [
    {
      "cell_type": "code",
      "execution_count": null,
      "metadata": {
        "id": "peNsylUW0XgJ"
      },
      "outputs": [],
      "source": [
        "import numpy as np\n",
        "import pandas as pd\n",
        "import matplotlib.pyplot as plt"
      ]
    },
    {
      "cell_type": "code",
      "source": [
        "dataset = pd.read_csv('/content/drive/MyDrive/Colab Notebooks/housing_clean_train (2).csv')"
      ],
      "metadata": {
        "id": "JQ_bxZl700yu"
      },
      "execution_count": null,
      "outputs": []
    },
    {
      "cell_type": "code",
      "source": [
        "print(dataset)"
      ],
      "metadata": {
        "id": "VQ6KHIIB1KHZ"
      },
      "execution_count": null,
      "outputs": []
    },
    {
      "cell_type": "code",
      "source": [
        "dataset.hist()"
      ],
      "metadata": {
        "id": "GO3L66EG1RNL"
      },
      "execution_count": null,
      "outputs": []
    },
    {
      "cell_type": "code",
      "source": [
        "# Data cleaning\n",
        "dataset = dataset [dataset>0]"
      ],
      "metadata": {
        "id": "_ydwsFa11Wyg"
      },
      "execution_count": null,
      "outputs": []
    },
    {
      "cell_type": "code",
      "source": [
        "print(dataset)"
      ],
      "metadata": {
        "id": "0rIx10Tm1otb"
      },
      "execution_count": null,
      "outputs": []
    },
    {
      "cell_type": "code",
      "source": [
        "#Taking care of missing data\n",
        "dataset.fillna(dataset.mean(), inplace = True)"
      ],
      "metadata": {
        "id": "AJVVAfEO1tG8"
      },
      "execution_count": null,
      "outputs": []
    },
    {
      "cell_type": "code",
      "source": [
        "print(dataset)"
      ],
      "metadata": {
        "id": "6bxAvAS13PrU"
      },
      "execution_count": null,
      "outputs": []
    },
    {
      "cell_type": "code",
      "source": [
        "#Visualize the corrected data\n",
        "plt.scatter(dataset['population'],dataset['households'])\n",
        "plt.xlabel('population')\n",
        "plt.ylabel('households')"
      ],
      "metadata": {
        "id": "AKdHtGQN2gWG"
      },
      "execution_count": null,
      "outputs": []
    },
    {
      "cell_type": "code",
      "source": [
        "#Splitting Data\n",
        "X = dataset.iloc[:,5:6].values\n",
        "Y = dataset.iloc[:,6:7].values\n",
        "from sklearn.model_selection import train_test_split\n",
        "X_train,X_test,Y_train,Y_test = train_test_split(X,Y,test_size=0.2,random_state=0)"
      ],
      "metadata": {
        "id": "Et84U4gb6DK6"
      },
      "execution_count": null,
      "outputs": []
    },
    {
      "cell_type": "code",
      "source": [
        "print(X)"
      ],
      "metadata": {
        "id": "weZfbvS77B1t"
      },
      "execution_count": null,
      "outputs": []
    },
    {
      "cell_type": "code",
      "source": [
        "print(X_train)"
      ],
      "metadata": {
        "id": "DAFo8B577Ym7"
      },
      "execution_count": null,
      "outputs": []
    },
    {
      "cell_type": "code",
      "source": [
        "print(Y)"
      ],
      "metadata": {
        "id": "P8m0x2sCHYwy"
      },
      "execution_count": null,
      "outputs": []
    },
    {
      "cell_type": "code",
      "source": [
        "print(Y_train)"
      ],
      "metadata": {
        "id": "uPtCVnSN2a2j"
      },
      "execution_count": null,
      "outputs": []
    },
    {
      "cell_type": "code",
      "source": [
        "from sklearn.linear_model import LinearRegression\n"
      ],
      "metadata": {
        "id": "EladLOde7dWy"
      },
      "execution_count": null,
      "outputs": []
    },
    {
      "cell_type": "code",
      "source": [
        "regressor = LinearRegression()"
      ],
      "metadata": {
        "id": "e547NP8N1mcz"
      },
      "execution_count": null,
      "outputs": []
    },
    {
      "cell_type": "code",
      "source": [
        "regressor.fit(X_train,Y_train)"
      ],
      "metadata": {
        "id": "1hwBq8MP1pqj"
      },
      "execution_count": null,
      "outputs": []
    },
    {
      "cell_type": "code",
      "source": [
        "print('slope: ', regressor.coef_)\n",
        "print('intercept: ', regressor.intercept_)"
      ],
      "metadata": {
        "id": "K033DmqFBL1S"
      },
      "execution_count": null,
      "outputs": []
    },
    {
      "cell_type": "code",
      "source": [
        "from google.colab import drive\n",
        "drive.mount('/content/drive')"
      ],
      "metadata": {
        "id": "TxhAfoiHwn0O"
      },
      "execution_count": null,
      "outputs": []
    },
    {
      "cell_type": "code",
      "source": [
        "#Scatter plot\n",
        "plt.scatter(X_train,Y_train,color = 'red')\n",
        "plt.plot(X_train,regressor.predict(X_train),color='blue')\n",
        "plt.title('population vs households (training set)')\n",
        "plt.xlabel('population')\n",
        "plt.ylabel('households')\n",
        "plt.show()"
      ],
      "metadata": {
        "colab": {
          "base_uri": "https://localhost:8080/",
          "height": 472
        },
        "id": "tCxhPKLc94TW",
        "outputId": "e9df1fca-32c4-4932-ba4d-bad4f1a7f7e7"
      },
      "execution_count": null,
      "outputs": [
        {
          "output_type": "display_data",
          "data": {
            "text/plain": [
              "<Figure size 640x480 with 1 Axes>"
            ],
            "image/png": "[encoded data removed]"
          },
          "metadata": {}
        }
      ]
    },
    {
      "cell_type": "code",
      "source": [
        "import math"
      ],
      "metadata": {
        "id": "s22IsF40AnNK"
      },
      "execution_count": null,
      "outputs": []
    },
    {
      "cell_type": "code",
      "source": [
        "Y_pred = regressor.predict(X_test)"
      ],
      "metadata": {
        "id": "kT18uEuUKF1q"
      },
      "execution_count": null,
      "outputs": []
    },
    {
      "cell_type": "code",
      "source": [
        "residual = abs(Y_test-Y_pred)"
      ],
      "metadata": {
        "id": "jH5dN2BvH6WL"
      },
      "execution_count": null,
      "outputs": []
    },
    {
      "cell_type": "code",
      "source": [
        "ss = (residual**2)\n",
        "ss = ss.sum()"
      ],
      "metadata": {
        "id": "F29UReYAKgZx"
      },
      "execution_count": null,
      "outputs": []
    },
    {
      "cell_type": "code",
      "source": [
        "RMSE = math.sqrt(ss)"
      ],
      "metadata": {
        "id": "UHAKfcMjK0LJ"
      },
      "execution_count": null,
      "outputs": []
    },
    {
      "cell_type": "code",
      "source": [
        "linear_r2 = regressor.score(X_train,Y_train)"
      ],
      "metadata": {
        "id": "xfxP8gWBK9-5"
      },
      "execution_count": null,
      "outputs": []
    },
    {
      "cell_type": "code",
      "source": [
        "print('RMSE: ', RMSE)\n",
        "print('r^2:{0}'.format(linear_r2))"
      ],
      "metadata": {
        "colab": {
          "base_uri": "https://localhost:8080/"
        },
        "id": "J6reQrVdLLkS",
        "outputId": "c3880770-175c-4382-9060-2cf20c204c47"
      },
      "execution_count": null,
      "outputs": [
        {
          "output_type": "stream",
          "name": "stdout",
          "text": [
            "RMSE:  9152.71546934347\n",
            "r^2:0.8345583242963739\n"
          ]
        }
      ]
    },
    {
      "cell_type": "code",
      "source": [
        "from statsmodels.stats.stattools import durbin_watson"
      ],
      "metadata": {
        "id": "ltR98_C1Lt1h"
      },
      "execution_count": null,
      "outputs": []
    },
    {
      "cell_type": "code",
      "source": [
        "durbinwatson = durbin_watson(residual)"
      ],
      "metadata": {
        "id": "th9ddDbKMiNB"
      },
      "execution_count": null,
      "outputs": []
    },
    {
      "cell_type": "code",
      "source": [
        "print('durbin_watson', durbin_watson)"
      ],
      "metadata": {
        "colab": {
          "base_uri": "https://localhost:8080/"
        },
        "id": "BSPJismGM0ep",
        "outputId": "543dbcc4-ba0b-4485-b56b-2d323c6af682"
      },
      "execution_count": null,
      "outputs": [
        {
          "output_type": "stream",
          "name": "stdout",
          "text": [
            "durbin_watson <function durbin_watson at 0x7cce74eaaf80>\n"
          ]
        }
      ]
    }
  ]
}