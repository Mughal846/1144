{
  "nbformat": 4,
  "nbformat_minor": 0,
  "metadata": {
    "colab": {
      "provenance": []
    },
    "kernelspec": {
      "name": "python3",
      "display_name": "Python 3"
    },
    "language_info": {
      "name": "python"
    }
  },
  "cells": [
    {
      "cell_type": "code",
      "execution_count": null,
      "metadata": {
        "id": "qK-Hz_Dw63q8"
      },
      "outputs": [],
      "source": [
        "# importing the Libraries\n",
        "import numpy as np\n",
        "import pandas as pd\n",
        "import matplotlib.pyplot as plt\n",
        "\n",
        "# importing the dataset\n",
        "dataset = pd.read_csv('/content/drive/MyDrive/Colab Notebooks/housing_clean_train (2).csv')\n",
        "X = dataset.iloc[:,:-1].values\n",
        "y = dataset.iloc[:, -1].values"
      ]
    },
    {
      "cell_type": "code",
      "source": [
        "from sklearn.linear_model import LinearRegression\n",
        "regressor = LinearRegression()\n",
        "regressor.fit(X,y)\n",
        "\n",
        "print('slope: ', regressor.coef_)\n",
        "print('intercept: ', regressor.intercept_)"
      ],
      "metadata": {
        "id": "QSnDEV8T-zvR"
      },
      "execution_count": null,
      "outputs": []
    },
    {
      "cell_type": "code",
      "source": [
        "#training the polynomial Linear regression model\n",
        "from sklearn.preprocessing import PolynomialFeatures\n",
        "poly_reg = PolynomialFeatures(degree=2)\n",
        "X_poly = poly_reg.fit_transform(X)\n",
        "lin_reg_2 = LinearRegression()\n",
        "lin_reg_2.fit(x_poly,y)"
      ],
      "metadata": {
        "id": "WIl0c7RR_D8B"
      },
      "execution_count": null,
      "outputs": []
    },
    {
      "cell_type": "code",
      "source": [
        "#visualization\n",
        "plt.scatter(X,y,color = 'red')\n",
        "plt.plot(X,regressor.predict(X),color='blue')\n",
        "plt.title('population vs households (training set)')\n",
        "plt.xlabel('population')\n",
        "plt.ylabel('households')\n",
        "plt.show()"
      ],
      "metadata": {
        "id": "xr903x_r_him"
      },
      "execution_count": null,
      "outputs": []
    },
    {
      "cell_type": "code",
      "source": [
        "#polynomial Linear Regression\n",
        "plt.scatter(x, y, color='red')\n",
        "plt.plot(x, lin_reg_2.predict(x_poly), color='blue')\n",
        "plt.title('population vs households (training set)')\n",
        "plt.xlabel('population')\n",
        "plt.ylabel('households')\n",
        "plt.show()"
      ],
      "metadata": {
        "id": "8jV_F6DP_re9"
      },
      "execution_count": null,
      "outputs": []
    },
    {
      "cell_type": "code",
      "source": [
        "x_grid = np.arange(min(X),max(x),0.1)\n",
        "x_grid = x_grid.reshape(len(x_grid), 1)\n",
        "plt.scatter(x, y, color='red')\n",
        "plt.plot(x_grid, lin_reg_2.predict(poly_reg.fit_transform(x_grid)), color='blue')\n",
        "plt.title('Truth or Bluff? (Polynomial Linear Regression)')\n",
        "plt.xlabel('population')\n",
        "plt.ylabel('households')\n",
        "plt.show()"
      ],
      "metadata": {
        "id": "a_fZ9xKq_9-9"
      },
      "execution_count": null,
      "outputs": []
    },
    {
      "cell_type": "code",
      "source": [
        "#predicting output\n",
        "y_pred_lin = lin_reg.predict([[6.5]])\n",
        "\n",
        "#Polynomial linera regression\n",
        "#y_pred_lin_2 = Lin_reg_2.predict([[1, 6.5, 6.5**2,6.5**3,6.5**4]])\n",
        "y_pred_lin_2 = lin_reg_2.predict(poly_reg.fit_transform([[6.5]]))"
      ],
      "metadata": {
        "id": "9lyFHSjHAe8E"
      },
      "execution_count": null,
      "outputs": []
    },
    {
      "cell_type": "code",
      "source": [
        "#Evaluating the models\n",
        "# Liner regression\n",
        "residuals = abs(y)-abs(lin_reg.predict(X))\n",
        "ss = (residuals**2)\n",
        "ss = ss.sum()\n",
        "import math\n",
        "RMSE = math.sqrt(ss)\n",
        "print('RMSE: ', RMSE)\n",
        "linear_r2 = lin_reg.score (X, lin_reg.predict(X))\n",
        "print('R^2: {0}'.format(linear_r2))\n",
        "# durbin_watson\n",
        "from statsmodels.stats.stattools import durbin_watson\n",
        "durbinWatson = durbin_watson (residuals)\n",
        "print('Durbin-Watson: ', durbinWatson)"
      ],
      "metadata": {
        "id": "Dgg-G-dbBdCM"
      },
      "execution_count": null,
      "outputs": []
    },
    {
      "cell_type": "code",
      "source": [
        "# Polynomial Liner regression\n",
        "residuals = abs(y)-abs(lin_reg_2.predict(poly_reg.fit_transform(X)))\n",
        "ss = (residuals**2)\n",
        "ss = ss.sum()\n",
        "import math\n",
        "RMSE = math.sqrt(ss)\n",
        "print('RMSE: ', RMSE)\n",
        "linear_r2 = lin_reg.score(X, lin_reg_2.predict(poly_reg.fit_transform(X)))\n",
        "print('R^2: {0}'.format(linear_r2))\n",
        "# durbin_watson\n",
        "from statsmodels.stats.stattools import durbin_watson\n",
        "durbinWatson = durbin_watson (residuals)\n",
        "print('Durbin-Watson:', durbinWatson)"
      ],
      "metadata": {
        "id": "dGFN6Gq1BouW"
      },
      "execution_count": null,
      "outputs": []
    }
  ]
}