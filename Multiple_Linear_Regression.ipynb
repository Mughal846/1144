{
  "nbformat": 4,
  "nbformat_minor": 0,
  "metadata": {
    "colab": {
      "provenance": []
    },
    "kernelspec": {
      "name": "python3",
      "display_name": "Python 3"
    },
    "language_info": {
      "name": "python"
    }
  },
  "cells": [
    {
      "cell_type": "code",
      "execution_count": null,
      "metadata": {
        "id": "8ZPyBClbdtTI"
      },
      "outputs": [],
      "source": [
        "# importing the Libraries\n",
        "import numpy as np\n",
        "import pandas as pd\n",
        "import matplotlib.pyplot as plt\n"
      ]
    },
    {
      "cell_type": "code",
      "source": [
        "# importing the dataset\n",
        "dataset = pd.read_csv('/content/drive/MyDrive/Colab Notebooks/housing_clean_train (2).csv')\n",
        "X = dataset.iloc[:,:-1].values\n",
        "y = dataset.iloc[:, -1].values"
      ],
      "metadata": {
        "id": "N1buWmKUrVp_"
      },
      "execution_count": null,
      "outputs": []
    },
    {
      "cell_type": "code",
      "source": [
        "# One Hot encoding\n",
        "from sklearn.compose import ColumnTransformer\n",
        "from sklearn.preprocessing import OneHotEncoder\n",
        "ct = ColumnTransformer(transformers= [('encoder', OneHotEncoder(), [3])], remainder='passthrough')\n",
        "X = np.array(ct. fit_transform(X))"
      ],
      "metadata": {
        "id": "ewtyx-KirZLU"
      },
      "execution_count": null,
      "outputs": []
    },
    {
      "cell_type": "code",
      "source": [
        "from sklearn.model_selection import train_test_split\n",
        "X_train,X_test,y_train,y_test = train_test_split(X,y,test_size=0.2,random_state=0)"
      ],
      "metadata": {
        "id": "hT673bwH69Dh"
      },
      "execution_count": null,
      "outputs": []
    },
    {
      "cell_type": "code",
      "source": [
        "from sklearn.linear_model import LinearRegression\n",
        "regressor = LinearRegression()\n",
        "regressor.fit(X_train,Y_train)"
      ],
      "metadata": {
        "id": "uGsxrqjf7GoR"
      },
      "execution_count": null,
      "outputs": []
    },
    {
      "cell_type": "code",
      "source": [
        "# predicting the values\n",
        "y_pred = regressor.predict(X_test)\n",
        "np.set_printoptions (precision=2)\n",
        "print(np.concatenate((y_pred.reshape(len(y_pred),1), y_test.reshape(len(y_test),1))))"
      ],
      "metadata": {
        "id": "WkCVR9eT7L5e"
      },
      "execution_count": null,
      "outputs": []
    },
    {
      "cell_type": "code",
      "source": [
        "# scatter plot for training set\n",
        "plt.scatter(y_train, regressor.predict(X_train), color 'red') =\n",
        "#plt.plot(X_train, regressor.predict(X_train), color='blue')\n",
        "plt.title('population vs households (training set)')\n",
        "plt.xlabel('population')\n",
        "plt.ylabel('households')\n",
        "plt.show()"
      ],
      "metadata": {
        "id": "YKTq6syo7j6c"
      },
      "execution_count": null,
      "outputs": []
    },
    {
      "cell_type": "code",
      "source": [
        "# scatter plot for test set\n",
        "plt.scatter(y_test, y_pred, color = 'blue')\n",
        "#plt.plot(x_train, regressor.predict(X_train), color='blue')\n",
        "plt.title('population vs households (training set)')\n",
        "plt.xlabel('population')\n",
        "plt.ylabel('households')\n",
        "plt.show()"
      ],
      "metadata": {
        "id": "JVSbxLfs8Cbj"
      },
      "execution_count": null,
      "outputs": []
    },
    {
      "cell_type": "code",
      "source": [
        "# Evaluating the model\n",
        "residuals = abs(y_test)-abs(y_pred) =\n",
        "ss = (residuals**2)\n",
        "ss = ss.sum()\n",
        "import math\n",
        "RMSE = math.sqrt(ss)\n",
        "print('RMSE: ', RMSE)\n",
        "from sklearn.metrics import r2_score\n",
        "print ('R squared score: ',r2_score (y_test, y_pred))"
      ],
      "metadata": {
        "id": "XcxGJuhh8TUR"
      },
      "execution_count": null,
      "outputs": []
    },
    {
      "cell_type": "code",
      "source": [
        "# Building optional model using backward elimination\n",
        "import statsmodel.api as sm\n",
        "X = np.append(arr = np.ones((50,1)).astype(int), values=X, asis=1)\n",
        "#X_opt = X[:,[0, 1, 2, 3, 4, 5]].tolist()\n",
        "X_opt = X.tolist()\n",
        "y= y.tolist()\n",
        "regressor_ols = result = sm.OLS(y, X_opt).fit()\n",
        "regressor_ols.summary()"
      ],
      "metadata": {
        "id": "kuPesds5rk-c"
      },
      "execution_count": null,
      "outputs": []
    },
    {
      "cell_type": "code",
      "source": [
        "X_opt = X[:,[0, 1, 2, 3, 4, 6]]\n",
        "X_opt = X_opt.tolist()\n",
        "#y= y.tolist()\n",
        "regressor_ols = result = sm.OLS(y, X_opt).fit()\n",
        "regressor_ols.summary()"
      ],
      "metadata": {
        "id": "tYFG42z3ssqS"
      },
      "execution_count": null,
      "outputs": []
    },
    {
      "cell_type": "code",
      "source": [
        "X_opt = X[:,[0, 1, 2, 3, 4]]\n",
        "X_opt = X_opt.tolist()\n",
        "#y= y.tolist()\n",
        "regressor_ols = result = sm.OLS(y, X_opt).fit()\n",
        "regressor_ols.summary()\n",
        "\n",
        "X_opt = np.array(X-opt)\n",
        "y = np.array(y)\n"
      ],
      "metadata": {
        "id": "EDQ9JH6485Ed"
      },
      "execution_count": null,
      "outputs": []
    },
    {
      "cell_type": "code",
      "source": [
        "# Building optimal model using forward selection\n",
        "import statsmodels.api as sm\n",
        "X = np.append(arr = np.ones((50,1)).astype(int), values=X, axis=1 )\n",
        "shape = X.shape\n",
        "a = shape[1]\n",
        "y = y.tolist()\n",
        "p_values = np.zeros((a,1))\n",
        "\n",
        "# for first selection\n",
        "for xx in range(a):\n",
        "X_opt = x[:,xx].tolist()\n",
        "regressor_ols = result = sm.OLS(y, X_opt).fit()\n",
        "p_values[xx] = regressor_ols.pvalues\n",
        "print(regressor_ols.pvalues)\n",
        "\n",
        "p_values = p_values.tolist()\n",
        "min_index1 = p_values.index(min(p_values))\n",
        "print(min_index1)"
      ],
      "metadata": {
        "id": "cbx36aqb9hEJ"
      },
      "execution_count": null,
      "outputs": []
    }
  ]
}